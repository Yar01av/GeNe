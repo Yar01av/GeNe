{
 "cells": [
  {
   "cell_type": "code",
   "execution_count": 2,
   "metadata": {
    "collapsed": true
   },
   "outputs": [
    {
     "name": "stderr",
     "output_type": "stream",
     "text": [
      "  0%|          | 0/40 [00:00<?, ?it/s]"
     ]
    },
    {
     "name": "stdout",
     "output_type": "stream",
     "text": [
      "{'max_couples': 10, 'init_std': 0.01}\n"
     ]
    },
    {
     "name": "stderr",
     "output_type": "stream",
     "text": [
      "\n",
      "  0%|          | 0/5 [00:00<?, ?it/s]\u001B[A\n",
      " 20%|██        | 1/5 [00:08<00:32,  8.18s/it]\u001B[A\n",
      " 40%|████      | 2/5 [00:15<00:22,  7.43s/it]\u001B[A\n",
      " 60%|██████    | 3/5 [00:21<00:14,  7.10s/it]\u001B[A\n",
      " 80%|████████  | 4/5 [00:28<00:06,  6.96s/it]\u001B[A\n",
      "100%|██████████| 5/5 [00:35<00:00,  7.05s/it]\u001B[A\n",
      "  2%|▎         | 1/40 [00:43<28:35, 43.98s/it]"
     ]
    },
    {
     "name": "stdout",
     "output_type": "stream",
     "text": [
      "{'max_couples': 10, 'init_std': 0.02326918168776363}\n"
     ]
    },
    {
     "name": "stderr",
     "output_type": "stream",
     "text": [
      "\n",
      "  0%|          | 0/5 [00:00<?, ?it/s]\u001B[A\n",
      " 20%|██        | 1/5 [00:06<00:26,  6.75s/it]\u001B[A\n",
      " 40%|████      | 2/5 [00:13<00:20,  6.80s/it]\u001B[A\n",
      " 60%|██████    | 3/5 [00:20<00:13,  6.83s/it]\u001B[A\n",
      " 80%|████████  | 4/5 [00:27<00:06,  6.83s/it]\u001B[A\n",
      "100%|██████████| 5/5 [00:34<00:00,  6.83s/it]\u001B[A\n",
      "  5%|▌         | 2/40 [01:23<26:22, 41.65s/it]"
     ]
    },
    {
     "name": "stdout",
     "output_type": "stream",
     "text": [
      "{'max_couples': 10, 'init_std': 0.05414548164181543}\n"
     ]
    },
    {
     "name": "stderr",
     "output_type": "stream",
     "text": [
      "\n",
      "  0%|          | 0/5 [00:00<?, ?it/s]\u001B[A\n",
      " 20%|██        | 1/5 [00:06<00:27,  6.76s/it]\u001B[A\n",
      " 40%|████      | 2/5 [00:13<00:20,  6.75s/it]\u001B[A\n",
      " 60%|██████    | 3/5 [00:20<00:13,  6.76s/it]\u001B[A\n",
      " 80%|████████  | 4/5 [00:27<00:06,  6.76s/it]\u001B[A\n",
      "100%|██████████| 5/5 [00:33<00:00,  6.76s/it]\u001B[A\n",
      "  8%|▊         | 3/40 [02:03<25:06, 40.71s/it]"
     ]
    },
    {
     "name": "stdout",
     "output_type": "stream",
     "text": [
      "{'max_couples': 10, 'init_std': 0.12599210498948735}\n"
     ]
    },
    {
     "name": "stderr",
     "output_type": "stream",
     "text": [
      "\n",
      "  0%|          | 0/5 [00:00<?, ?it/s]\u001B[A\n",
      " 20%|██        | 1/5 [00:06<00:26,  6.73s/it]\u001B[A\n",
      " 40%|████      | 2/5 [00:13<00:20,  6.76s/it]\u001B[A\n",
      " 60%|██████    | 3/5 [00:20<00:13,  6.75s/it]\u001B[A\n",
      " 80%|████████  | 4/5 [00:27<00:06,  6.78s/it]\u001B[A\n",
      "100%|██████████| 5/5 [00:34<00:00,  6.86s/it]\u001B[A\n",
      " 10%|█         | 4/40 [02:43<24:19, 40.54s/it]"
     ]
    },
    {
     "name": "stdout",
     "output_type": "stream",
     "text": [
      "{'max_couples': 10, 'init_std': 0.29317331822241716}\n"
     ]
    },
    {
     "name": "stderr",
     "output_type": "stream",
     "text": [
      "\n",
      "  0%|          | 0/5 [00:00<?, ?it/s]\u001B[A\n",
      " 20%|██        | 1/5 [00:07<00:28,  7.04s/it]\u001B[A\n",
      " 40%|████      | 2/5 [00:13<00:20,  6.81s/it]\u001B[A\n",
      " 60%|██████    | 3/5 [00:20<00:13,  6.74s/it]\u001B[A\n",
      " 80%|████████  | 4/5 [00:27<00:06,  6.72s/it]\u001B[A\n",
      "100%|██████████| 5/5 [00:33<00:00,  6.75s/it]\u001B[A\n",
      " 12%|█▎        | 5/40 [03:23<23:24, 40.13s/it]"
     ]
    },
    {
     "name": "stdout",
     "output_type": "stream",
     "text": [
      "{'max_couples': 10, 'init_std': 0.6821903207721969}\n"
     ]
    },
    {
     "name": "stderr",
     "output_type": "stream",
     "text": [
      "\n",
      "  0%|          | 0/5 [00:00<?, ?it/s]\u001B[A\n",
      " 20%|██        | 1/5 [00:06<00:27,  6.78s/it]\u001B[A\n",
      " 40%|████      | 2/5 [00:13<00:20,  6.79s/it]\u001B[A\n",
      " 60%|██████    | 3/5 [00:20<00:13,  6.83s/it]\u001B[A\n",
      " 80%|████████  | 4/5 [00:27<00:06,  6.79s/it]\u001B[A\n",
      "100%|██████████| 5/5 [00:33<00:00,  6.79s/it]\u001B[A\n",
      " 15%|█▌        | 6/40 [04:03<22:40, 40.00s/it]"
     ]
    },
    {
     "name": "stdout",
     "output_type": "stream",
     "text": [
      "{'max_couples': 10, 'init_std': 1.5874010519682002}\n"
     ]
    },
    {
     "name": "stderr",
     "output_type": "stream",
     "text": [
      "\n",
      "  0%|          | 0/5 [00:00<?, ?it/s]\u001B[A\n",
      " 20%|██        | 1/5 [00:06<00:26,  6.66s/it]\u001B[A\n",
      " 40%|████      | 2/5 [00:13<00:20,  6.74s/it]\u001B[A\n",
      " 60%|██████    | 3/5 [00:20<00:13,  6.74s/it]\u001B[A\n",
      " 80%|████████  | 4/5 [00:26<00:06,  6.76s/it]\u001B[A\n",
      "100%|██████████| 5/5 [00:33<00:00,  6.74s/it]\u001B[A\n",
      " 18%|█▊        | 7/40 [04:42<21:55, 39.85s/it]"
     ]
    },
    {
     "name": "stdout",
     "output_type": "stream",
     "text": [
      "{'max_couples': 10, 'init_std': 3.6937523489595185}\n"
     ]
    },
    {
     "name": "stderr",
     "output_type": "stream",
     "text": [
      "\n",
      "  0%|          | 0/5 [00:00<?, ?it/s]\u001B[A\n",
      " 20%|██        | 1/5 [00:06<00:26,  6.66s/it]\u001B[A\n",
      " 40%|████      | 2/5 [00:13<00:20,  6.76s/it]\u001B[A\n",
      " 60%|██████    | 3/5 [00:20<00:13,  6.81s/it]\u001B[A\n",
      " 80%|████████  | 4/5 [00:27<00:06,  6.81s/it]\u001B[A\n",
      "100%|██████████| 5/5 [00:34<00:00,  6.80s/it]\u001B[A\n",
      " 20%|██        | 8/40 [05:22<21:15, 39.85s/it]"
     ]
    },
    {
     "name": "stdout",
     "output_type": "stream",
     "text": [
      "{'max_couples': 10, 'init_std': 8.595059451754269}\n"
     ]
    },
    {
     "name": "stderr",
     "output_type": "stream",
     "text": [
      "\n",
      "  0%|          | 0/5 [00:00<?, ?it/s]\u001B[A\n",
      " 20%|██        | 1/5 [00:06<00:26,  6.68s/it]\u001B[A\n",
      " 40%|████      | 2/5 [00:13<00:20,  6.73s/it]\u001B[A\n",
      " 60%|██████    | 3/5 [00:20<00:13,  6.72s/it]\u001B[A\n",
      " 80%|████████  | 4/5 [00:26<00:06,  6.72s/it]\u001B[A\n",
      "100%|██████████| 5/5 [00:33<00:00,  6.71s/it]\u001B[A\n",
      " 22%|██▎       | 9/40 [06:01<20:29, 39.67s/it]"
     ]
    },
    {
     "name": "stdout",
     "output_type": "stream",
     "text": [
      "{'max_couples': 10, 'init_std': 20.000000000000004}\n"
     ]
    },
    {
     "name": "stderr",
     "output_type": "stream",
     "text": [
      "\n",
      "  0%|          | 0/5 [00:00<?, ?it/s]\u001B[A\n",
      " 20%|██        | 1/5 [00:06<00:26,  6.67s/it]\u001B[A\n",
      " 40%|████      | 2/5 [00:13<00:20,  6.73s/it]\u001B[A\n",
      " 60%|██████    | 3/5 [00:20<00:13,  6.76s/it]\u001B[A\n",
      " 80%|████████  | 4/5 [00:26<00:06,  6.75s/it]\u001B[A\n",
      "100%|██████████| 5/5 [00:33<00:00,  6.75s/it]\u001B[A\n",
      " 25%|██▌       | 10/40 [06:41<19:49, 39.64s/it]"
     ]
    },
    {
     "name": "stdout",
     "output_type": "stream",
     "text": [
      "{'max_couples': 13, 'init_std': 0.01}\n"
     ]
    },
    {
     "name": "stderr",
     "output_type": "stream",
     "text": [
      "\n",
      "  0%|          | 0/5 [00:00<?, ?it/s]\u001B[A\n",
      " 20%|██        | 1/5 [00:07<00:30,  7.68s/it]\u001B[A\n",
      " 40%|████      | 2/5 [00:15<00:23,  7.71s/it]\u001B[A\n",
      " 60%|██████    | 3/5 [00:23<00:15,  7.72s/it]\u001B[A\n",
      " 80%|████████  | 4/5 [00:30<00:07,  7.74s/it]\u001B[A\n",
      "100%|██████████| 5/5 [00:38<00:00,  7.72s/it]\u001B[A\n",
      " 28%|██▊       | 11/40 [07:25<19:53, 41.14s/it]"
     ]
    },
    {
     "name": "stdout",
     "output_type": "stream",
     "text": [
      "{'max_couples': 13, 'init_std': 0.02326918168776363}\n"
     ]
    },
    {
     "name": "stderr",
     "output_type": "stream",
     "text": [
      "\n",
      "  0%|          | 0/5 [00:00<?, ?it/s]\u001B[A\n",
      " 20%|██        | 1/5 [00:07<00:30,  7.64s/it]\u001B[A\n",
      " 40%|████      | 2/5 [00:15<00:23,  7.69s/it]\u001B[A\n",
      " 60%|██████    | 3/5 [00:23<00:15,  7.73s/it]\u001B[A\n",
      " 80%|████████  | 4/5 [00:30<00:07,  7.73s/it]\u001B[A\n",
      "100%|██████████| 5/5 [00:38<00:00,  7.72s/it]\u001B[A\n",
      " 30%|███       | 12/40 [08:10<19:40, 42.17s/it]"
     ]
    },
    {
     "name": "stdout",
     "output_type": "stream",
     "text": [
      "{'max_couples': 13, 'init_std': 0.05414548164181543}\n"
     ]
    },
    {
     "name": "stderr",
     "output_type": "stream",
     "text": [
      "\n",
      "  0%|          | 0/5 [00:00<?, ?it/s]\u001B[A\n",
      " 20%|██        | 1/5 [00:07<00:31,  7.84s/it]\u001B[A\n",
      " 40%|████      | 2/5 [00:15<00:23,  7.86s/it]\u001B[A\n",
      " 60%|██████    | 3/5 [00:25<00:17,  8.64s/it]\u001B[A\n",
      " 80%|████████  | 4/5 [00:33<00:08,  8.42s/it]\u001B[A\n",
      "100%|██████████| 5/5 [00:41<00:00,  8.23s/it]\u001B[A\n",
      " 32%|███▎      | 13/40 [08:57<19:37, 43.63s/it]"
     ]
    },
    {
     "name": "stdout",
     "output_type": "stream",
     "text": [
      "{'max_couples': 13, 'init_std': 0.12599210498948735}\n"
     ]
    },
    {
     "name": "stderr",
     "output_type": "stream",
     "text": [
      "\n",
      "  0%|          | 0/5 [00:00<?, ?it/s]\u001B[A\n",
      " 20%|██        | 1/5 [00:07<00:30,  7.69s/it]\u001B[A\n",
      " 40%|████      | 2/5 [00:15<00:23,  7.78s/it]\u001B[A\n",
      " 60%|██████    | 3/5 [00:23<00:15,  7.78s/it]\u001B[A\n",
      " 80%|████████  | 4/5 [00:31<00:07,  7.79s/it]\u001B[A\n",
      "100%|██████████| 5/5 [00:38<00:00,  7.79s/it]\u001B[A\n",
      " 35%|███▌      | 14/40 [09:42<19:03, 43.98s/it]"
     ]
    },
    {
     "name": "stdout",
     "output_type": "stream",
     "text": [
      "{'max_couples': 13, 'init_std': 0.29317331822241716}\n"
     ]
    },
    {
     "name": "stderr",
     "output_type": "stream",
     "text": [
      "\n",
      "  0%|          | 0/5 [00:00<?, ?it/s]\u001B[A\n",
      " 20%|██        | 1/5 [00:07<00:30,  7.72s/it]\u001B[A\n",
      " 40%|████      | 2/5 [00:15<00:23,  7.76s/it]\u001B[A\n",
      " 60%|██████    | 3/5 [00:23<00:15,  7.78s/it]\u001B[A\n",
      " 80%|████████  | 4/5 [00:31<00:07,  7.80s/it]\u001B[A\n",
      "100%|██████████| 5/5 [00:38<00:00,  7.78s/it]\u001B[A\n",
      " 38%|███▊      | 15/40 [10:26<18:25, 44.23s/it]"
     ]
    },
    {
     "name": "stdout",
     "output_type": "stream",
     "text": [
      "{'max_couples': 13, 'init_std': 0.6821903207721969}\n"
     ]
    },
    {
     "name": "stderr",
     "output_type": "stream",
     "text": [
      "\n",
      "  0%|          | 0/5 [00:00<?, ?it/s]\u001B[A\n",
      " 20%|██        | 1/5 [00:07<00:30,  7.62s/it]\u001B[A\n",
      " 40%|████      | 2/5 [00:15<00:23,  7.69s/it]\u001B[A\n",
      " 60%|██████    | 3/5 [00:23<00:15,  7.71s/it]\u001B[A\n",
      " 80%|████████  | 4/5 [00:30<00:07,  7.73s/it]\u001B[A\n",
      "100%|██████████| 5/5 [00:38<00:00,  7.72s/it]\u001B[A\n",
      " 40%|████      | 16/40 [11:11<17:42, 44.29s/it]"
     ]
    },
    {
     "name": "stdout",
     "output_type": "stream",
     "text": [
      "{'max_couples': 13, 'init_std': 1.5874010519682002}\n"
     ]
    },
    {
     "name": "stderr",
     "output_type": "stream",
     "text": [
      "\n",
      "  0%|          | 0/5 [00:00<?, ?it/s]\u001B[A\n",
      " 20%|██        | 1/5 [00:07<00:30,  7.61s/it]\u001B[A\n",
      " 40%|████      | 2/5 [00:15<00:23,  7.71s/it]\u001B[A\n",
      " 60%|██████    | 3/5 [00:23<00:15,  7.72s/it]\u001B[A\n",
      " 80%|████████  | 4/5 [00:30<00:07,  7.72s/it]\u001B[A\n",
      "100%|██████████| 5/5 [00:38<00:00,  7.73s/it]\u001B[A\n",
      " 42%|████▎     | 17/40 [11:55<16:59, 44.34s/it]"
     ]
    },
    {
     "name": "stdout",
     "output_type": "stream",
     "text": [
      "{'max_couples': 13, 'init_std': 3.6937523489595185}\n"
     ]
    },
    {
     "name": "stderr",
     "output_type": "stream",
     "text": [
      "\n",
      "  0%|          | 0/5 [00:00<?, ?it/s]\u001B[A\n",
      " 20%|██        | 1/5 [00:07<00:30,  7.62s/it]\u001B[A\n",
      " 40%|████      | 2/5 [00:15<00:23,  7.68s/it]\u001B[A\n",
      " 60%|██████    | 3/5 [00:23<00:15,  7.71s/it]\u001B[A\n",
      " 80%|████████  | 4/5 [00:30<00:07,  7.74s/it]\u001B[A\n",
      "100%|██████████| 5/5 [00:38<00:00,  7.72s/it]\u001B[A\n",
      " 45%|████▌     | 18/40 [12:40<16:16, 44.40s/it]"
     ]
    },
    {
     "name": "stdout",
     "output_type": "stream",
     "text": [
      "{'max_couples': 13, 'init_std': 8.595059451754269}\n"
     ]
    },
    {
     "name": "stderr",
     "output_type": "stream",
     "text": [
      "\n",
      "  0%|          | 0/5 [00:00<?, ?it/s]\u001B[A\n",
      " 20%|██        | 1/5 [00:07<00:30,  7.70s/it]\u001B[A\n",
      " 40%|████      | 2/5 [00:15<00:23,  7.79s/it]\u001B[A\n",
      " 60%|██████    | 3/5 [00:23<00:15,  7.80s/it]\u001B[A\n",
      " 80%|████████  | 4/5 [00:31<00:07,  7.81s/it]\u001B[A\n",
      "100%|██████████| 5/5 [00:39<00:00,  7.80s/it]\u001B[A\n",
      " 48%|████▊     | 19/40 [13:25<15:35, 44.54s/it]"
     ]
    },
    {
     "name": "stdout",
     "output_type": "stream",
     "text": [
      "{'max_couples': 13, 'init_std': 20.000000000000004}\n"
     ]
    },
    {
     "name": "stderr",
     "output_type": "stream",
     "text": [
      "\n",
      "  0%|          | 0/5 [00:00<?, ?it/s]\u001B[A\n",
      " 20%|██        | 1/5 [00:07<00:30,  7.70s/it]\u001B[A\n",
      " 40%|████      | 2/5 [00:15<00:23,  7.78s/it]\u001B[A\n",
      " 60%|██████    | 3/5 [00:23<00:15,  7.79s/it]\u001B[A\n",
      " 80%|████████  | 4/5 [00:31<00:07,  7.80s/it]\u001B[A\n",
      "100%|██████████| 5/5 [00:38<00:00,  7.80s/it]\u001B[A\n",
      " 50%|█████     | 20/40 [14:10<14:52, 44.64s/it]"
     ]
    },
    {
     "name": "stdout",
     "output_type": "stream",
     "text": [
      "{'max_couples': 16, 'init_std': 0.01}\n"
     ]
    },
    {
     "name": "stderr",
     "output_type": "stream",
     "text": [
      "\n",
      "  0%|          | 0/5 [00:00<?, ?it/s]\u001B[A\n",
      " 20%|██        | 1/5 [00:08<00:34,  8.61s/it]\u001B[A\n",
      " 40%|████      | 2/5 [00:17<00:26,  8.75s/it]\u001B[A\n",
      " 60%|██████    | 3/5 [00:26<00:17,  8.77s/it]\u001B[A\n",
      " 80%|████████  | 4/5 [00:35<00:08,  8.77s/it]\u001B[A\n",
      "100%|██████████| 5/5 [00:43<00:00,  8.76s/it]\u001B[A\n",
      " 52%|█████▎    | 21/40 [14:59<14:37, 46.17s/it]"
     ]
    },
    {
     "name": "stdout",
     "output_type": "stream",
     "text": [
      "{'max_couples': 16, 'init_std': 0.02326918168776363}\n"
     ]
    },
    {
     "name": "stderr",
     "output_type": "stream",
     "text": [
      "\n",
      "  0%|          | 0/5 [00:00<?, ?it/s]\u001B[A\n",
      " 20%|██        | 1/5 [00:08<00:34,  8.56s/it]\u001B[A\n",
      " 40%|████      | 2/5 [00:17<00:26,  8.72s/it]\u001B[A\n",
      " 60%|██████    | 3/5 [00:26<00:17,  8.73s/it]\u001B[A\n",
      " 80%|████████  | 4/5 [00:34<00:08,  8.76s/it]\u001B[A\n",
      "100%|██████████| 5/5 [00:43<00:00,  8.74s/it]\u001B[A\n",
      " 55%|█████▌    | 22/40 [15:49<14:09, 47.18s/it]"
     ]
    },
    {
     "name": "stdout",
     "output_type": "stream",
     "text": [
      "{'max_couples': 16, 'init_std': 0.05414548164181543}\n"
     ]
    },
    {
     "name": "stderr",
     "output_type": "stream",
     "text": [
      "\n",
      "  0%|          | 0/5 [00:00<?, ?it/s]\u001B[A\n",
      " 20%|██        | 1/5 [00:08<00:34,  8.65s/it]\u001B[A\n",
      " 40%|████      | 2/5 [00:17<00:26,  8.78s/it]\u001B[A\n",
      " 60%|██████    | 3/5 [00:26<00:17,  8.74s/it]\u001B[A\n",
      " 80%|████████  | 4/5 [00:35<00:08,  8.77s/it]\u001B[A\n",
      "100%|██████████| 5/5 [00:43<00:00,  8.77s/it]\u001B[A\n",
      " 57%|█████▊    | 23/40 [16:38<13:34, 47.91s/it]"
     ]
    },
    {
     "name": "stdout",
     "output_type": "stream",
     "text": [
      "{'max_couples': 16, 'init_std': 0.12599210498948735}\n"
     ]
    },
    {
     "name": "stderr",
     "output_type": "stream",
     "text": [
      "\n",
      "  0%|          | 0/5 [00:00<?, ?it/s]\u001B[A\n",
      " 20%|██        | 1/5 [00:08<00:34,  8.65s/it]\u001B[A\n",
      " 40%|████      | 2/5 [00:17<00:26,  8.73s/it]\u001B[A\n",
      " 60%|██████    | 3/5 [00:26<00:17,  8.76s/it]\u001B[A\n",
      " 80%|████████  | 4/5 [00:34<00:08,  8.76s/it]\u001B[A\n",
      "100%|██████████| 5/5 [00:43<00:00,  8.77s/it]\u001B[A\n",
      " 60%|██████    | 24/40 [17:28<12:55, 48.44s/it]"
     ]
    },
    {
     "name": "stdout",
     "output_type": "stream",
     "text": [
      "{'max_couples': 16, 'init_std': 0.29317331822241716}\n"
     ]
    },
    {
     "name": "stderr",
     "output_type": "stream",
     "text": [
      "\n",
      "  0%|          | 0/5 [00:00<?, ?it/s]\u001B[A\n",
      " 20%|██        | 1/5 [00:08<00:33,  8.49s/it]\u001B[A\n",
      " 40%|████      | 2/5 [00:17<00:25,  8.58s/it]\u001B[A\n",
      " 60%|██████    | 3/5 [00:25<00:17,  8.55s/it]\u001B[A\n",
      " 80%|████████  | 4/5 [00:34<00:08,  8.58s/it]\u001B[A\n",
      "100%|██████████| 5/5 [00:42<00:00,  8.56s/it]\u001B[A\n",
      " 62%|██████▎   | 25/40 [18:17<12:07, 48.50s/it]"
     ]
    },
    {
     "name": "stdout",
     "output_type": "stream",
     "text": [
      "{'max_couples': 16, 'init_std': 0.6821903207721969}\n"
     ]
    },
    {
     "name": "stderr",
     "output_type": "stream",
     "text": [
      "\n",
      "  0%|          | 0/5 [00:00<?, ?it/s]\u001B[A\n",
      " 20%|██        | 1/5 [00:08<00:34,  8.64s/it]\u001B[A\n",
      " 40%|████      | 2/5 [00:17<00:26,  8.73s/it]\u001B[A\n",
      " 60%|██████    | 3/5 [00:26<00:17,  8.79s/it]\u001B[A\n",
      " 80%|████████  | 4/5 [00:35<00:08,  8.77s/it]\u001B[A\n",
      "100%|██████████| 5/5 [00:43<00:00,  8.77s/it]\u001B[A\n",
      " 65%|██████▌   | 26/40 [19:07<11:24, 48.87s/it]"
     ]
    },
    {
     "name": "stdout",
     "output_type": "stream",
     "text": [
      "{'max_couples': 16, 'init_std': 1.5874010519682002}\n"
     ]
    },
    {
     "name": "stderr",
     "output_type": "stream",
     "text": [
      "\n",
      "  0%|          | 0/5 [00:00<?, ?it/s]\u001B[A\n",
      " 20%|██        | 1/5 [00:08<00:34,  8.65s/it]\u001B[A\n",
      " 40%|████      | 2/5 [00:17<00:26,  8.73s/it]\u001B[A\n",
      " 60%|██████    | 3/5 [00:26<00:17,  8.76s/it]\u001B[A\n",
      " 80%|████████  | 4/5 [00:35<00:08,  8.79s/it]\u001B[A\n",
      "100%|██████████| 5/5 [00:43<00:00,  8.77s/it]\u001B[A\n",
      " 68%|██████▊   | 27/40 [19:56<10:38, 49.12s/it]"
     ]
    },
    {
     "name": "stdout",
     "output_type": "stream",
     "text": [
      "{'max_couples': 16, 'init_std': 3.6937523489595185}\n"
     ]
    },
    {
     "name": "stderr",
     "output_type": "stream",
     "text": [
      "\n",
      "  0%|          | 0/5 [00:00<?, ?it/s]\u001B[A\n",
      " 20%|██        | 1/5 [00:08<00:34,  8.63s/it]\u001B[A\n",
      " 40%|████      | 2/5 [00:17<00:25,  8.66s/it]\u001B[A\n",
      " 60%|██████    | 3/5 [00:25<00:17,  8.62s/it]\u001B[A\n",
      " 80%|████████  | 4/5 [00:34<00:08,  8.65s/it]\u001B[A\n",
      "100%|██████████| 5/5 [00:43<00:00,  8.77s/it]\u001B[A\n",
      " 70%|███████   | 28/40 [20:46<09:53, 49.45s/it]"
     ]
    },
    {
     "name": "stdout",
     "output_type": "stream",
     "text": [
      "{'max_couples': 16, 'init_std': 8.595059451754269}\n"
     ]
    },
    {
     "name": "stderr",
     "output_type": "stream",
     "text": [
      "\n",
      "  0%|          | 0/5 [00:00<?, ?it/s]\u001B[A\n",
      " 20%|██        | 1/5 [00:10<00:40, 10.06s/it]\u001B[A\n",
      " 40%|████      | 2/5 [00:18<00:27,  9.26s/it]\u001B[A\n",
      " 60%|██████    | 3/5 [00:27<00:18,  9.12s/it]\u001B[A\n",
      " 80%|████████  | 4/5 [00:36<00:09,  9.03s/it]\u001B[A\n",
      "100%|██████████| 5/5 [00:45<00:00,  9.10s/it]\u001B[A\n",
      " 72%|███████▎  | 29/40 [21:38<09:10, 50.03s/it]"
     ]
    },
    {
     "name": "stdout",
     "output_type": "stream",
     "text": [
      "{'max_couples': 16, 'init_std': 20.000000000000004}\n"
     ]
    },
    {
     "name": "stderr",
     "output_type": "stream",
     "text": [
      "\n",
      "  0%|          | 0/5 [00:00<?, ?it/s]\u001B[A\n",
      " 20%|██        | 1/5 [00:08<00:34,  8.62s/it]\u001B[A\n",
      " 40%|████      | 2/5 [00:17<00:26,  8.71s/it]\u001B[A\n",
      " 60%|██████    | 3/5 [00:26<00:17,  8.76s/it]\u001B[A\n",
      " 80%|████████  | 4/5 [00:34<00:08,  8.74s/it]\u001B[A\n",
      "100%|██████████| 5/5 [00:43<00:00,  8.74s/it]\u001B[A\n",
      " 75%|███████▌  | 30/40 [22:27<08:18, 49.88s/it]"
     ]
    },
    {
     "name": "stdout",
     "output_type": "stream",
     "text": [
      "{'max_couples': 20, 'init_std': 0.01}\n"
     ]
    },
    {
     "name": "stderr",
     "output_type": "stream",
     "text": [
      "\n",
      "  0%|          | 0/5 [00:00<?, ?it/s]\u001B[A\n",
      " 20%|██        | 1/5 [00:10<00:40, 10.05s/it]\u001B[A\n",
      " 40%|████      | 2/5 [00:20<00:30, 10.07s/it]\u001B[A\n",
      " 60%|██████    | 3/5 [00:30<00:20, 10.05s/it]\u001B[A\n",
      " 80%|████████  | 4/5 [00:40<00:10, 10.05s/it]\u001B[A\n",
      "100%|██████████| 5/5 [00:50<00:00, 10.05s/it]\u001B[A\n",
      " 78%|███████▊  | 31/40 [23:23<07:45, 51.71s/it]"
     ]
    },
    {
     "name": "stdout",
     "output_type": "stream",
     "text": [
      "{'max_couples': 20, 'init_std': 0.02326918168776363}\n"
     ]
    },
    {
     "name": "stderr",
     "output_type": "stream",
     "text": [
      "\n",
      "  0%|          | 0/5 [00:00<?, ?it/s]\u001B[A\n",
      " 20%|██        | 1/5 [00:10<00:40, 10.09s/it]\u001B[A\n",
      " 40%|████      | 2/5 [00:20<00:30, 10.21s/it]\u001B[A\n",
      " 60%|██████    | 3/5 [00:30<00:20, 10.23s/it]\u001B[A\n",
      " 80%|████████  | 4/5 [00:40<00:10, 10.26s/it]\u001B[A\n",
      "100%|██████████| 5/5 [00:51<00:00, 10.24s/it]\u001B[A\n",
      " 80%|████████  | 32/40 [24:20<07:06, 53.33s/it]"
     ]
    },
    {
     "name": "stdout",
     "output_type": "stream",
     "text": [
      "{'max_couples': 20, 'init_std': 0.05414548164181543}\n"
     ]
    },
    {
     "name": "stderr",
     "output_type": "stream",
     "text": [
      "\n",
      "  0%|          | 0/5 [00:00<?, ?it/s]\u001B[A\n",
      " 20%|██        | 1/5 [00:09<00:39,  9.89s/it]\u001B[A\n",
      " 40%|████      | 2/5 [00:20<00:30, 10.05s/it]\u001B[A\n",
      " 60%|██████    | 3/5 [00:30<00:20, 10.15s/it]\u001B[A\n",
      " 80%|████████  | 4/5 [00:40<00:10, 10.21s/it]\u001B[A\n",
      "100%|██████████| 5/5 [00:50<00:00, 10.19s/it]\u001B[A\n",
      " 82%|████████▎ | 33/40 [25:17<06:20, 54.39s/it]"
     ]
    },
    {
     "name": "stdout",
     "output_type": "stream",
     "text": [
      "{'max_couples': 20, 'init_std': 0.12599210498948735}\n"
     ]
    },
    {
     "name": "stderr",
     "output_type": "stream",
     "text": [
      "\n",
      "  0%|          | 0/5 [00:00<?, ?it/s]\u001B[A\n",
      " 20%|██        | 1/5 [00:10<00:40, 10.14s/it]\u001B[A\n",
      " 40%|████      | 2/5 [00:20<00:30, 10.22s/it]\u001B[A\n",
      " 60%|██████    | 3/5 [00:30<00:20, 10.27s/it]\u001B[A\n",
      " 80%|████████  | 4/5 [00:41<00:10, 10.27s/it]\u001B[A\n",
      "100%|██████████| 5/5 [00:51<00:00, 10.27s/it]\u001B[A\n",
      " 85%|████████▌ | 34/40 [26:15<05:31, 55.25s/it]"
     ]
    },
    {
     "name": "stdout",
     "output_type": "stream",
     "text": [
      "{'max_couples': 20, 'init_std': 0.29317331822241716}\n"
     ]
    },
    {
     "name": "stderr",
     "output_type": "stream",
     "text": [
      "\n",
      "  0%|          | 0/5 [00:00<?, ?it/s]\u001B[A\n",
      " 20%|██        | 1/5 [00:09<00:39,  9.89s/it]\u001B[A\n",
      " 40%|████      | 2/5 [00:20<00:30, 10.13s/it]\u001B[A\n",
      " 60%|██████    | 3/5 [00:30<00:20, 10.15s/it]\u001B[A\n",
      " 80%|████████  | 4/5 [00:40<00:10, 10.22s/it]\u001B[A\n",
      "100%|██████████| 5/5 [00:50<00:00, 10.19s/it]\u001B[A\n",
      " 88%|████████▊ | 35/40 [27:11<04:38, 55.75s/it]"
     ]
    },
    {
     "name": "stdout",
     "output_type": "stream",
     "text": [
      "{'max_couples': 20, 'init_std': 0.6821903207721969}\n"
     ]
    },
    {
     "name": "stderr",
     "output_type": "stream",
     "text": [
      "\n",
      "  0%|          | 0/5 [00:00<?, ?it/s]\u001B[A\n",
      " 20%|██        | 1/5 [00:10<00:40, 10.08s/it]\u001B[A\n",
      " 40%|████      | 2/5 [00:20<00:30, 10.21s/it]\u001B[A\n",
      " 60%|██████    | 3/5 [00:30<00:20, 10.23s/it]\u001B[A\n",
      " 80%|████████  | 4/5 [00:40<00:10, 10.26s/it]\u001B[A\n",
      "100%|██████████| 5/5 [00:51<00:00, 10.24s/it]\u001B[A\n",
      " 90%|█████████ | 36/40 [28:09<03:44, 56.17s/it]"
     ]
    },
    {
     "name": "stdout",
     "output_type": "stream",
     "text": [
      "{'max_couples': 20, 'init_std': 1.5874010519682002}\n"
     ]
    },
    {
     "name": "stderr",
     "output_type": "stream",
     "text": [
      "\n",
      "  0%|          | 0/5 [00:00<?, ?it/s]\u001B[A\n",
      " 20%|██        | 1/5 [00:09<00:39,  9.98s/it]\u001B[A\n",
      " 40%|████      | 2/5 [00:20<00:30, 10.04s/it]\u001B[A\n",
      " 60%|██████    | 3/5 [00:30<00:20, 10.09s/it]\u001B[A\n",
      " 80%|████████  | 4/5 [00:40<00:10, 10.09s/it]\u001B[A\n",
      "100%|██████████| 5/5 [00:50<00:00, 10.09s/it]\u001B[A\n",
      " 92%|█████████▎| 37/40 [29:05<02:48, 56.19s/it]"
     ]
    },
    {
     "name": "stdout",
     "output_type": "stream",
     "text": [
      "{'max_couples': 20, 'init_std': 3.6937523489595185}\n"
     ]
    },
    {
     "name": "stderr",
     "output_type": "stream",
     "text": [
      "\n",
      "  0%|          | 0/5 [00:00<?, ?it/s]\u001B[A\n",
      " 20%|██        | 1/5 [00:09<00:39,  9.86s/it]\u001B[A\n",
      " 40%|████      | 2/5 [00:19<00:29, 10.00s/it]\u001B[A\n",
      " 60%|██████    | 3/5 [00:30<00:20, 10.02s/it]\u001B[A\n",
      " 80%|████████  | 4/5 [00:40<00:10, 10.05s/it]\u001B[A\n",
      "100%|██████████| 5/5 [00:50<00:00, 10.03s/it]\u001B[A\n",
      " 95%|█████████▌| 38/40 [30:01<01:52, 56.11s/it]"
     ]
    },
    {
     "name": "stdout",
     "output_type": "stream",
     "text": [
      "{'max_couples': 20, 'init_std': 8.595059451754269}\n"
     ]
    },
    {
     "name": "stderr",
     "output_type": "stream",
     "text": [
      "\n",
      "  0%|          | 0/5 [00:00<?, ?it/s]\u001B[A\n",
      " 20%|██        | 1/5 [00:09<00:39,  9.86s/it]\u001B[A\n",
      " 40%|████      | 2/5 [00:19<00:29,  9.99s/it]\u001B[A\n",
      " 60%|██████    | 3/5 [00:29<00:20, 10.01s/it]\u001B[A\n",
      " 80%|████████  | 4/5 [00:40<00:10, 10.04s/it]\u001B[A\n",
      "100%|██████████| 5/5 [00:50<00:00, 10.05s/it]\u001B[A\n",
      " 98%|█████████▊| 39/40 [30:57<00:56, 56.10s/it]"
     ]
    },
    {
     "name": "stdout",
     "output_type": "stream",
     "text": [
      "{'max_couples': 20, 'init_std': 20.000000000000004}\n"
     ]
    },
    {
     "name": "stderr",
     "output_type": "stream",
     "text": [
      "\n",
      "  0%|          | 0/5 [00:00<?, ?it/s]\u001B[A\n",
      " 20%|██        | 1/5 [00:09<00:39,  9.97s/it]\u001B[A\n",
      " 40%|████      | 2/5 [00:20<00:30, 10.05s/it]\u001B[A\n",
      " 60%|██████    | 3/5 [00:30<00:20, 10.07s/it]\u001B[A\n",
      " 80%|████████  | 4/5 [00:40<00:10, 10.07s/it]\u001B[A\n",
      "100%|██████████| 5/5 [00:50<00:00, 10.07s/it]\u001B[A\n",
      "100%|██████████| 40/40 [31:53<00:00, 47.84s/it]"
     ]
    },
    {
     "name": "stdout",
     "output_type": "stream",
     "text": [
      "[Result(max_couples=10, init_std=0.01, score=0.48858999999999997), Result(max_couples=10, init_std=0.02326918168776363, score=0.53643), Result(max_couples=10, init_std=0.05414548164181543, score=0.45514), Result(max_couples=10, init_std=0.12599210498948735, score=0.5419700000000001), Result(max_couples=10, init_std=0.29317331822241716, score=0.47165), Result(max_couples=10, init_std=0.6821903207721969, score=0.5265299999999999), Result(max_couples=10, init_std=1.5874010519682002, score=0.5014000000000001), Result(max_couples=10, init_std=3.6937523489595185, score=0.4709999999999999), Result(max_couples=10, init_std=8.595059451754269, score=0.54206), Result(max_couples=10, init_std=20.000000000000004, score=0.48665), Result(max_couples=13, init_std=0.01, score=0.51703), Result(max_couples=13, init_std=0.02326918168776363, score=0.5421199999999999), Result(max_couples=13, init_std=0.05414548164181543, score=0.49107), Result(max_couples=13, init_std=0.12599210498948735, score=0.5061099999999998), Result(max_couples=13, init_std=0.29317331822241716, score=0.51764), Result(max_couples=13, init_std=0.6821903207721969, score=0.5101699999999998), Result(max_couples=13, init_std=1.5874010519682002, score=0.53062), Result(max_couples=13, init_std=3.6937523489595185, score=0.5273899999999999), Result(max_couples=13, init_std=8.595059451754269, score=0.53801), Result(max_couples=13, init_std=20.000000000000004, score=0.53273), Result(max_couples=16, init_std=0.01, score=0.5924699999999998), Result(max_couples=16, init_std=0.02326918168776363, score=0.5126), Result(max_couples=16, init_std=0.05414548164181543, score=0.4826), Result(max_couples=16, init_std=0.12599210498948735, score=0.58689), Result(max_couples=16, init_std=0.29317331822241716, score=0.5410299999999999), Result(max_couples=16, init_std=0.6821903207721969, score=0.5341199999999999), Result(max_couples=16, init_std=1.5874010519682002, score=0.55267), Result(max_couples=16, init_std=3.6937523489595185, score=0.5625), Result(max_couples=16, init_std=8.595059451754269, score=0.54826), Result(max_couples=16, init_std=20.000000000000004, score=0.51313), Result(max_couples=20, init_std=0.01, score=0.56197), Result(max_couples=20, init_std=0.02326918168776363, score=0.5479100000000001), Result(max_couples=20, init_std=0.05414548164181543, score=0.54199), Result(max_couples=20, init_std=0.12599210498948735, score=0.55111), Result(max_couples=20, init_std=0.29317331822241716, score=0.5590999999999999), Result(max_couples=20, init_std=0.6821903207721969, score=0.58201), Result(max_couples=20, init_std=1.5874010519682002, score=0.49685000000000007), Result(max_couples=20, init_std=3.6937523489595185, score=0.5458299999999999), Result(max_couples=20, init_std=8.595059451754269, score=0.56251), Result(max_couples=20, init_std=20.000000000000004, score=0.5843200000000001)]\n"
     ]
    },
    {
     "name": "stderr",
     "output_type": "stream",
     "text": [
      "\n"
     ]
    }
   ],
   "source": [
    "from gene.optimisers.crossing import CrossingOptimiser\n",
    "import random\n",
    "\n",
    "import matplotlib.pyplot as plt\n",
    "import numpy as np\n",
    "from torch.utils.data import DataLoader\n",
    "from torchvision import datasets\n",
    "from torchvision.transforms import transforms\n",
    "from tqdm import tqdm\n",
    "\n",
    "from gene.optimisers.annealing import AnnealingOptimiser\n",
    "import torch\n",
    "\n",
    "from gene.targets import get_negative_accuracy_target\n",
    "from gene.util import get_accuracy, grid_search\n",
    "\n",
    "\n",
    "random.seed(0)\n",
    "torch.manual_seed(0)\n",
    "np.random.seed(0)\n",
    "\n",
    "DEVICE = [\"cpu\", \"cuda\"][1]\n",
    "N_EPOCHS = 5\n",
    "\n",
    "\n",
    "def train(max_couples=0.999, init_std=5):\n",
    "    # Define the model\n",
    "    model = torch.nn.Sequential(\n",
    "        torch.nn.Flatten(),\n",
    "        torch.nn.Linear(28*28, 256),\n",
    "        torch.nn.ReLU(),\n",
    "        torch.nn.Linear(256, 64),\n",
    "        torch.nn.ReLU(),\n",
    "        torch.nn.Linear(64, 10)\n",
    "    )\n",
    "    models = [model.to(DEVICE)]\n",
    "\n",
    "    # Define the optimiser\n",
    "    optimiser = CrossingOptimiser(target_func=get_negative_accuracy_target,\n",
    "                                  random_function=lambda shape: torch.normal(0, init_std, shape),\n",
    "                                  selection_limit=10,\n",
    "                                  max_couples=max_couples,\n",
    "                                  n_children_per_couple=2,\n",
    "                                  device=DEVICE)\n",
    "\n",
    "    # Define the data\n",
    "    train_data = datasets.MNIST(\n",
    "            root=\"./cache\",\n",
    "            download=True,\n",
    "            train=True,\n",
    "            transform=transforms.ToTensor()\n",
    "    )\n",
    "    train_loader = DataLoader(train_data, batch_size=1024, shuffle=True)\n",
    "    test_data = datasets.MNIST(\n",
    "            root=\"./cache\",\n",
    "            download=True,\n",
    "            train=False,\n",
    "            transform=transforms.ToTensor()\n",
    "        )\n",
    "    test_loader = DataLoader(test_data, batch_size=1024)\n",
    "\n",
    "    for e in tqdm(range(N_EPOCHS)):\n",
    "        for images, labels in train_loader:\n",
    "            models = optimiser.step(models, images.to(DEVICE), labels.to(DEVICE))\n",
    "\n",
    "    return np.mean([get_accuracy(test_loader, m, DEVICE) for m in models])\n",
    "\n",
    "\n",
    "parameters = {\"max_couples\": np.linspace(10, 20, 4).astype(int),\n",
    "              \"init_std\": np.logspace(np.log10(0.01), np.log10(20), 10)}\n",
    "n_param_0, n_param_1 = len(list(parameters.values())[0]), len(list(parameters.values())[1])\n",
    "results = grid_search(trainer=train, parameters=parameters)\n",
    "print(results)"
   ]
  },
  {
   "cell_type": "markdown",
   "source": [],
   "metadata": {
    "collapsed": false
   }
  },
  {
   "cell_type": "code",
   "execution_count": 3,
   "outputs": [
    {
     "data": {
      "text/plain": "<Figure size 720x720 with 1 Axes>",
      "image/png": "[encoded data removed]"
     },
     "metadata": {
      "needs_background": "light"
     },
     "output_type": "display_data"
    }
   ],
   "source": [
    "scores = [result.score for result in results]\n",
    "scores = np.reshape(scores, (n_param_0, n_param_1))\n",
    "\n",
    "fig, ax = plt.subplots(figsize=(10, 10))\n",
    "ax.imshow(scores)\n",
    "\n",
    "for i in range(n_param_0):\n",
    "    for j in range(n_param_1):\n",
    "        text = ax.text(j, i, str(scores[i, j])[:4],\n",
    "                       ha=\"center\", va=\"center\", color=\"w\")\n",
    "ax.set_xticks(range(n_param_1))\n",
    "ax.set_xticklabels([str(val)[:6] for val in list(parameters.values())[1]])\n",
    "ax.set_yticks(range(n_param_0))\n",
    "ax.set_yticklabels([str(val)[:6] for val in list(parameters.values())[0]])\n",
    "ax.set_xlabel(list(parameters.keys())[1])\n",
    "ax.set_ylabel(list(parameters.keys())[0])\n",
    "plt.xticks(rotation=45)\n",
    "\n",
    "plt.show()"
   ],
   "metadata": {
    "collapsed": false,
    "pycharm": {
     "name": "#%%\n"
    }
   }
  },
  {
   "cell_type": "code",
   "execution_count": null,
   "outputs": [],
   "source": [],
   "metadata": {
    "collapsed": false,
    "pycharm": {
     "name": "#%%\n"
    }
   }
  }
 ],
 "metadata": {
  "kernelspec": {
   "display_name": "Python 3",
   "language": "python",
   "name": "python3"
  },
  "language_info": {
   "codemirror_mode": {
    "name": "ipython",
    "version": 2
   },
   "file_extension": ".py",
   "mimetype": "text/x-python",
   "name": "python",
   "nbconvert_exporter": "python",
   "pygments_lexer": "ipython2",
   "version": "2.7.6"
  }
 },
 "nbformat": 4,
 "nbformat_minor": 0
}